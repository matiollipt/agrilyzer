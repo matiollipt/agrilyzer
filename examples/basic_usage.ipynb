{
 "cells": [
  {
   "cell_type": "markdown",
   "id": "44ac48f2",
   "metadata": {},
   "source": [
    "# Agrilizer: Basic Usage Tutorial"
   ]
  },
  {
   "cell_type": "markdown",
   "id": "95dfa38f",
   "metadata": {},
   "source": [
    "## Config Overview\n",
    "\n",
    "The config file is a dictionary containing all the parameters for the Agrilizer and Visualizer classes. It is loaded from the `config.json` file in the project root directory."
   ]
  },
  {
   "cell_type": "code",
   "execution_count": 5,
   "id": "d6307c4e",
   "metadata": {},
   "outputs": [],
   "source": [
    "from agrilyzer.analyzers import Agrilyzer\n",
    "from agrilyzer.config import cfg\n",
    "from agrilyzer.visualizers import Visualizer"
   ]
  },
  {
   "cell_type": "code",
   "execution_count": 6,
   "id": "580a7f32",
   "metadata": {},
   "outputs": [
    {
     "data": {
      "text/plain": [
       "dict_keys(['base_url', 'params', 'params_descriptions', 'visualization', 'cache_config'])"
      ]
     },
     "execution_count": 6,
     "metadata": {},
     "output_type": "execute_result"
    }
   ],
   "source": [
    "cfg.keys()"
   ]
  },
  {
   "cell_type": "code",
   "execution_count": 7,
   "id": "bef5d624",
   "metadata": {},
   "outputs": [
    {
     "name": "stdout",
     "output_type": "stream",
     "text": [
      "https://power.larc.nasa.gov/api/temporal/daily/point\n"
     ]
    }
   ],
   "source": [
    "print(cfg[\"base_url\"])  # NASA POWER API base URL"
   ]
  },
  {
   "cell_type": "code",
   "execution_count": 8,
   "id": "a6dd44e1",
   "metadata": {},
   "outputs": [
    {
     "name": "stdout",
     "output_type": "stream",
     "text": [
      "category: all\n",
      "Short name: T2M: Long name: Temperature at 2 m (°C)\n",
      "Short name: T2M_MAX: Long name: Maximum Temperature at 2 m (°C)\n",
      "Short name: T2M_MIN: Long name: Minimum Temperature at 2 m (°C)\n",
      "Short name: T2M_RANGE: Long name: Temperature Range at 2 m (°C)\n",
      "Short name: T2MWET: Long name: Wet Bulb Temperature at 2 m (°C)\n",
      "Short name: T2MDEW: Long name: Dew Point Temperature at 2 m (°C)\n",
      "Short name: TS: Long name: Surface Skin Temperature (°C)\n",
      "Short name: QV2M: Long name: Specific Humidity at 2 m (kg/kg)\n",
      "Short name: RH2M: Long name: Relative Humidity at 2 m (%)\n",
      "Short name: PRECTOTCORR: Long name: Corrected Total Precipitation (mm/day)\n",
      "Short name: ALLSKY_SFC_SW_DWN: Long name: All Sky Surface Shortwave Downward Radiation (W/m²)\n",
      "Short name: CLRSKY_SFC_SW_DWN: Long name: Clear Sky Surface Shortwave Downward Radiation (W/m²)\n",
      "Short name: ALLSKY_SFC_PAR_TOT: Long name: All Sky Photosynthetically Active Radiation (MJ/m²/day)\n",
      "Short name: CLRSKY_SFC_PAR_TOT: Long name: Clear Sky PAR (MJ/m²/day)\n",
      "Short name: ALLSKY_TOA_SW_DWN: Long name: Top Of Atmosphere Shortwave Radiation (W/m²)\n",
      "Short name: WS10M: Long name: Wind Speed at 10 m (m/s)\n",
      "Short name: WS10M_MAX: Long name: Maximum Wind Speed at 10 m (m/s)\n",
      "Short name: WS10M_MIN: Long name: Minimum Wind Speed at 10 m (m/s)\n",
      "Short name: WS10M_RANGE: Long name: Wind Speed Range at 10 m (m/s)\n",
      "Short name: WS50M: Long name: Wind Speed at 50 m (m/s)\n",
      "Short name: WS50M_MAX: Long name: Maximum Wind Speed at 50 m (m/s)\n",
      "Short name: WS50M_MIN: Long name: Minimum Wind Speed at 50 m (m/s)\n",
      "Short name: WS50M_RANGE: Long name: Wind Speed Range at 50 m (m/s)\n",
      "Short name: WD10M: Long name: Wind Direction at 10 m (degrees)\n",
      "Short name: WD50M: Long name: Wind Direction at 50 m (degrees)\n",
      "Short name: PS: Long name: Surface Pressure (kPa)\n",
      "category: default\n",
      "Short name: T2M: Long name: Temperature at 2 m (°C)\n",
      "Short name: RH2M: Long name: Relative Humidity at 2 m (%)\n",
      "Short name: T2MDEW: Long name: Dew Point Temperature at 2 m (°C)\n",
      "Short name: TS: Long name: Surface Skin Temperature (°C)\n",
      "Short name: PRECTOTCORR: Long name: Corrected Total Precipitation (mm/day)\n",
      "Short name: ALLSKY_SFC_PAR_TOT: Long name: All Sky Photosynthetically Active Radiation (MJ/m²/day)\n",
      "Short name: WS50M: Long name: Wind Speed at 50 m (m/s)\n",
      "Short name: WD50M: Long name: Wind Direction at 50 m (degrees)\n",
      "Short name: PS: Long name: Surface Pressure (kPa)\n",
      "category: temperature\n",
      "Short name: T2M: Long name: Temperature at 2 m (°C)\n",
      "Short name: T2M_MAX: Long name: Maximum Temperature at 2 m (°C)\n",
      "Short name: T2M_MIN: Long name: Minimum Temperature at 2 m (°C)\n",
      "Short name: T2M_RANGE: Long name: Temperature Range at 2 m (°C)\n",
      "Short name: T2MWET: Long name: Wet Bulb Temperature at 2 m (°C)\n",
      "Short name: T2MDEW: Long name: Dew Point Temperature at 2 m (°C)\n",
      "Short name: TS: Long name: Surface Skin Temperature (°C)\n",
      "category: humidity\n",
      "Short name: QV2M: Long name: Specific Humidity at 2 m (kg/kg)\n",
      "Short name: RH2M: Long name: Relative Humidity at 2 m (%)\n",
      "category: precipitation\n",
      "Short name: PRECTOT: Long name: Total Precipitation (mm/day)\n",
      "Short name: PRECTOTCORR: Long name: Corrected Total Precipitation (mm/day)\n",
      "category: radiation\n",
      "Short name: ALLSKY_SFC_SW_DWN: Long name: All Sky Surface Shortwave Downward Radiation (W/m²)\n",
      "Short name: CLRSKY_SFC_SW_DWN: Long name: Clear Sky Surface Shortwave Downward Radiation (W/m²)\n",
      "Short name: ALLSKY_SFC_PAR_TOT: Long name: All Sky Photosynthetically Active Radiation (MJ/m²/day)\n",
      "Short name: CLRSKY_SFC_PAR_TOT: Long name: Clear Sky PAR (MJ/m²/day)\n",
      "Short name: ALLSKY_TOA_SW_DWN: Long name: Top Of Atmosphere Shortwave Radiation (W/m²)\n",
      "category: wind\n",
      "Short name: WS10M: Long name: Wind Speed at 10 m (m/s)\n",
      "Short name: WS10M_MAX: Long name: Maximum Wind Speed at 10 m (m/s)\n",
      "Short name: WS10M_MIN: Long name: Minimum Wind Speed at 10 m (m/s)\n",
      "Short name: WS10M_RANGE: Long name: Wind Speed Range at 10 m (m/s)\n",
      "Short name: WS50M: Long name: Wind Speed at 50 m (m/s)\n",
      "Short name: WS50M_MAX: Long name: Maximum Wind Speed at 50 m (m/s)\n",
      "Short name: WS50M_MIN: Long name: Minimum Wind Speed at 50 m (m/s)\n",
      "Short name: WS50M_RANGE: Long name: Wind Speed Range at 50 m (m/s)\n",
      "Short name: WD10M: Long name: Wind Direction at 10 m (degrees)\n",
      "Short name: WD50M: Long name: Wind Direction at 50 m (degrees)\n",
      "category: pressure\n",
      "Short name: PS: Long name: Surface Pressure (kPa)\n",
      "Short name: TQV: Long name: Total Column Water Vapor (kg/m²)\n"
     ]
    }
   ],
   "source": [
    "for k, v in cfg[\"params\"].items():\n",
    "    print(f\"category: {k}\")\n",
    "    for k2, v2 in v.items():\n",
    "        print(f\"Short name: {k2}: Long name: {v2}\")\n"
   ]
  }
 ],
 "metadata": {
  "kernelspec": {
   "display_name": "agrilizer_env",
   "language": "python",
   "name": "python3"
  },
  "language_info": {
   "codemirror_mode": {
    "name": "ipython",
    "version": 3
   },
   "file_extension": ".py",
   "mimetype": "text/x-python",
   "name": "python",
   "nbconvert_exporter": "python",
   "pygments_lexer": "ipython3",
   "version": "3.13.0"
  }
 },
 "nbformat": 4,
 "nbformat_minor": 5
}
